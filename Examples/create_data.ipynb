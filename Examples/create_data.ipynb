{
 "cells": [
  {
   "cell_type": "code",
   "execution_count": 1,
   "id": "a300ce32",
   "metadata": {},
   "outputs": [],
   "source": [
    "using LinearAlgebra\n",
    "using Random"
   ]
  },
  {
   "cell_type": "code",
   "execution_count": 2,
   "id": "892e17f9",
   "metadata": {},
   "outputs": [
    {
     "data": {
      "text/plain": [
       "random_points_noisy_matrix (generic function with 1 method)"
      ]
     },
     "execution_count": 2,
     "metadata": {},
     "output_type": "execute_result"
    }
   ],
   "source": [
    "function random_points_noisy_matrix(n, dim)\n",
    "    points = rand(dim, n) \n",
    "    \n",
    "    X = zeros(n, n)\n",
    "\n",
    "    for i = 1 : n\n",
    "        for j = i + 1 : n \n",
    "            X[i, j] = norm(points[:, i] - points[:, j]) + 0.1 * rand()\n",
    "            X[j, i] = X[i, j]  \n",
    "        end\n",
    "    end\n",
    "    \n",
    "    return X\n",
    "end"
   ]
  },
  {
   "cell_type": "code",
   "execution_count": 3,
   "id": "03481905",
   "metadata": {},
   "outputs": [
    {
     "data": {
      "text/plain": [
       "write_noisy_matrix_to_file (generic function with 1 method)"
      ]
     },
     "execution_count": 3,
     "metadata": {},
     "output_type": "execute_result"
    }
   ],
   "source": [
    "function write_noisy_matrix_to_file(n, X)\n",
    "    # Add the name of the file here\n",
    "     file = open(\"file-name.txt\", \"w\") \n",
    "        write(file, string(n), \"\\n\")\n",
    "        for i = 1 : n\n",
    "            for j = 1 : n\n",
    "                write(file, string(X[i, j]),)\n",
    "                write(file, \", \")\n",
    "                write(file, string(1.0), \"\\n\")\n",
    "            end            \n",
    "        end\n",
    "    close(file)\n",
    "end"
   ]
  },
  {
   "cell_type": "code",
   "execution_count": 4,
   "id": "5ac51b0f",
   "metadata": {},
   "outputs": [],
   "source": [
    "# Change the size of the dissimilarity matrix here\n",
    "n = \n",
    "A = random_points_noisy_matrix(n, 2) # The points are in R^2\n",
    "write_noisy_matrix_to_file(n, A)"
   ]
  }
 ],
 "metadata": {
  "kernelspec": {
   "display_name": "Julia 1.8.5",
   "language": "julia",
   "name": "julia-1.8"
  },
  "language_info": {
   "file_extension": ".jl",
   "mimetype": "application/julia",
   "name": "julia",
   "version": "1.8.5"
  }
 },
 "nbformat": 4,
 "nbformat_minor": 5
}
